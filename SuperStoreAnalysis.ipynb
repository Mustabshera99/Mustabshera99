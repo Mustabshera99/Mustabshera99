{
 "cells": [
  {
   "cell_type": "code",
   "execution_count": 5,
   "id": "5bb89b20",
   "metadata": {},
   "outputs": [],
   "source": [
    "import pandas as pd\n",
    "import numpy as np\n",
    "import matplotlib.pyplot as plt\n",
    "import seaborn as sns\n",
    "import warnings\n",
    "\n",
    "warnings.filterwarnings('ignore')\n",
    "\n",
    "%matplotlib inline\n",
    "pd.set_option('display.max_columns', 22)\n",
    "pd.set_option('display.max_rows', 10)"
   ]
  },
  {
   "cell_type": "code",
   "execution_count": 6,
   "id": "6ea3b960",
   "metadata": {},
   "outputs": [
    {
     "data": {
      "text/html": [
       "<div>\n",
       "<style scoped>\n",
       "    .dataframe tbody tr th:only-of-type {\n",
       "        vertical-align: middle;\n",
       "    }\n",
       "\n",
       "    .dataframe tbody tr th {\n",
       "        vertical-align: top;\n",
       "    }\n",
       "\n",
       "    .dataframe thead th {\n",
       "        text-align: right;\n",
       "    }\n",
       "</style>\n",
       "<table border=\"1\" class=\"dataframe\">\n",
       "  <thead>\n",
       "    <tr style=\"text-align: right;\">\n",
       "      <th></th>\n",
       "      <th>Order ID</th>\n",
       "      <th>Order Date</th>\n",
       "      <th>Ship Date</th>\n",
       "      <th>Ship Mode</th>\n",
       "      <th>Customer ID</th>\n",
       "      <th>Customer Name</th>\n",
       "      <th>Segment</th>\n",
       "      <th>Country</th>\n",
       "      <th>City</th>\n",
       "      <th>State</th>\n",
       "      <th>Postal Code</th>\n",
       "      <th>Region</th>\n",
       "      <th>Product ID</th>\n",
       "      <th>Category</th>\n",
       "      <th>Sub-Category</th>\n",
       "      <th>Product Name</th>\n",
       "      <th>Sales</th>\n",
       "      <th>Quantity</th>\n",
       "      <th>Discount</th>\n",
       "      <th>Profit</th>\n",
       "    </tr>\n",
       "    <tr>\n",
       "      <th>Row ID</th>\n",
       "      <th></th>\n",
       "      <th></th>\n",
       "      <th></th>\n",
       "      <th></th>\n",
       "      <th></th>\n",
       "      <th></th>\n",
       "      <th></th>\n",
       "      <th></th>\n",
       "      <th></th>\n",
       "      <th></th>\n",
       "      <th></th>\n",
       "      <th></th>\n",
       "      <th></th>\n",
       "      <th></th>\n",
       "      <th></th>\n",
       "      <th></th>\n",
       "      <th></th>\n",
       "      <th></th>\n",
       "      <th></th>\n",
       "      <th></th>\n",
       "    </tr>\n",
       "  </thead>\n",
       "  <tbody>\n",
       "    <tr>\n",
       "      <th>1</th>\n",
       "      <td>CA-2017-152156</td>\n",
       "      <td>11/8/17</td>\n",
       "      <td>11/11/17</td>\n",
       "      <td>Second Class</td>\n",
       "      <td>CG-12520</td>\n",
       "      <td>Claire Gute</td>\n",
       "      <td>Consumer</td>\n",
       "      <td>United States</td>\n",
       "      <td>Henderson</td>\n",
       "      <td>Kentucky</td>\n",
       "      <td>42420.0</td>\n",
       "      <td>South</td>\n",
       "      <td>FUR-BO-10001798</td>\n",
       "      <td>Furniture</td>\n",
       "      <td>Bookcases</td>\n",
       "      <td>Bush Somerset Collection Bookcase</td>\n",
       "      <td>261.96</td>\n",
       "      <td>2</td>\n",
       "      <td>0.0</td>\n",
       "      <td>41.9136</td>\n",
       "    </tr>\n",
       "  </tbody>\n",
       "</table>\n",
       "</div>"
      ],
      "text/plain": [
       "              Order ID Order Date Ship Date     Ship Mode Customer ID  \\\n",
       "Row ID                                                                  \n",
       "1       CA-2017-152156    11/8/17  11/11/17  Second Class    CG-12520   \n",
       "\n",
       "       Customer Name   Segment        Country       City     State  \\\n",
       "Row ID                                                               \n",
       "1        Claire Gute  Consumer  United States  Henderson  Kentucky   \n",
       "\n",
       "        Postal Code Region       Product ID   Category Sub-Category  \\\n",
       "Row ID                                                                \n",
       "1           42420.0  South  FUR-BO-10001798  Furniture    Bookcases   \n",
       "\n",
       "                             Product Name   Sales  Quantity  Discount   Profit  \n",
       "Row ID                                                                          \n",
       "1       Bush Somerset Collection Bookcase  261.96         2       0.0  41.9136  "
      ]
     },
     "execution_count": 6,
     "metadata": {},
     "output_type": "execute_result"
    }
   ],
   "source": [
    "df = pd.read_csv('Superstore.csv', index_col='Row ID')\n",
    "df.head(1)"
   ]
  },
  {
   "cell_type": "code",
   "execution_count": 2,
   "id": "433e1224",
   "metadata": {},
   "outputs": [
    {
     "name": "stdout",
     "output_type": "stream",
     "text": [
      "/c/Users/HP Notebook/Desktop\n"
     ]
    }
   ],
   "source": [
    "!pwd"
   ]
  },
  {
   "cell_type": "code",
   "execution_count": 7,
   "id": "4f06b1e6",
   "metadata": {},
   "outputs": [
    {
     "name": "stdout",
     "output_type": "stream",
     "text": [
      "The number of rows is 9994 and number columns in the dataframe is 20\n"
     ]
    }
   ],
   "source": [
    "df.shape\n",
    "print('The number of rows is {} and number columns in the dataframe is {}'.format(df.shape[0],df.shape[1]))"
   ]
  },
  {
   "cell_type": "code",
   "execution_count": 8,
   "id": "d34311e0",
   "metadata": {},
   "outputs": [
    {
     "data": {
      "text/plain": [
       "Index(['Order ID', 'Order Date', 'Ship Date', 'Ship Mode', 'Customer ID',\n",
       "       'Customer Name', 'Segment', 'Country', 'City', 'State', 'Postal Code',\n",
       "       'Region', 'Product ID', 'Category', 'Sub-Category', 'Product Name',\n",
       "       'Sales', 'Quantity', 'Discount', 'Profit'],\n",
       "      dtype='object')"
      ]
     },
     "execution_count": 8,
     "metadata": {},
     "output_type": "execute_result"
    }
   ],
   "source": [
    "df.columns"
   ]
  },
  {
   "cell_type": "code",
   "execution_count": 11,
   "id": "4c15e36e",
   "metadata": {},
   "outputs": [
    {
     "name": "stdout",
     "output_type": "stream",
     "text": [
      "<class 'pandas.core.frame.DataFrame'>\n",
      "Index: 9994 entries, 1 to 9994\n",
      "Data columns (total 19 columns):\n",
      " #   Column         Non-Null Count  Dtype  \n",
      "---  ------         --------------  -----  \n",
      " 0   Order ID       9994 non-null   object \n",
      " 1   Order Date     9994 non-null   object \n",
      " 2   Ship Date      9994 non-null   object \n",
      " 3   Ship Mode      9994 non-null   object \n",
      " 4   Customer ID    9994 non-null   object \n",
      " 5   Customer Name  9994 non-null   object \n",
      " 6   Segment        9994 non-null   object \n",
      " 7   City           9994 non-null   object \n",
      " 8   State          9994 non-null   object \n",
      " 9   Postal Code    9983 non-null   float64\n",
      " 10  Region         9994 non-null   object \n",
      " 11  Product ID     9994 non-null   object \n",
      " 12  Category       9994 non-null   object \n",
      " 13  Sub-Category   9994 non-null   object \n",
      " 14  Product Name   9994 non-null   object \n",
      " 15  Sales          9994 non-null   float64\n",
      " 16  Quantity       9994 non-null   int64  \n",
      " 17  Discount       9994 non-null   float64\n",
      " 18  Profit         9994 non-null   float64\n",
      "dtypes: float64(4), int64(1), object(14)\n",
      "memory usage: 1.5+ MB\n"
     ]
    }
   ],
   "source": [
    "df.info()"
   ]
  },
  {
   "cell_type": "code",
   "execution_count": 12,
   "id": "c269c3cf",
   "metadata": {},
   "outputs": [
    {
     "data": {
      "text/html": [
       "<div>\n",
       "<style scoped>\n",
       "    .dataframe tbody tr th:only-of-type {\n",
       "        vertical-align: middle;\n",
       "    }\n",
       "\n",
       "    .dataframe tbody tr th {\n",
       "        vertical-align: top;\n",
       "    }\n",
       "\n",
       "    .dataframe thead th {\n",
       "        text-align: right;\n",
       "    }\n",
       "</style>\n",
       "<table border=\"1\" class=\"dataframe\">\n",
       "  <thead>\n",
       "    <tr style=\"text-align: right;\">\n",
       "      <th></th>\n",
       "      <th>Postal Code</th>\n",
       "      <th>Sales</th>\n",
       "      <th>Quantity</th>\n",
       "      <th>Discount</th>\n",
       "      <th>Profit</th>\n",
       "    </tr>\n",
       "  </thead>\n",
       "  <tbody>\n",
       "    <tr>\n",
       "      <th>count</th>\n",
       "      <td>9983.000000</td>\n",
       "      <td>9994.000000</td>\n",
       "      <td>9994.000000</td>\n",
       "      <td>9994.000000</td>\n",
       "      <td>9994.000000</td>\n",
       "    </tr>\n",
       "    <tr>\n",
       "      <th>mean</th>\n",
       "      <td>55245.233297</td>\n",
       "      <td>229.858001</td>\n",
       "      <td>3.789574</td>\n",
       "      <td>0.156203</td>\n",
       "      <td>28.656896</td>\n",
       "    </tr>\n",
       "    <tr>\n",
       "      <th>std</th>\n",
       "      <td>32038.715955</td>\n",
       "      <td>623.245101</td>\n",
       "      <td>2.225110</td>\n",
       "      <td>0.206452</td>\n",
       "      <td>234.260108</td>\n",
       "    </tr>\n",
       "    <tr>\n",
       "      <th>min</th>\n",
       "      <td>1040.000000</td>\n",
       "      <td>0.444000</td>\n",
       "      <td>1.000000</td>\n",
       "      <td>0.000000</td>\n",
       "      <td>-6599.978000</td>\n",
       "    </tr>\n",
       "    <tr>\n",
       "      <th>25%</th>\n",
       "      <td>23223.000000</td>\n",
       "      <td>17.280000</td>\n",
       "      <td>2.000000</td>\n",
       "      <td>0.000000</td>\n",
       "      <td>1.728750</td>\n",
       "    </tr>\n",
       "    <tr>\n",
       "      <th>50%</th>\n",
       "      <td>57103.000000</td>\n",
       "      <td>54.490000</td>\n",
       "      <td>3.000000</td>\n",
       "      <td>0.200000</td>\n",
       "      <td>8.666500</td>\n",
       "    </tr>\n",
       "    <tr>\n",
       "      <th>75%</th>\n",
       "      <td>90008.000000</td>\n",
       "      <td>209.940000</td>\n",
       "      <td>5.000000</td>\n",
       "      <td>0.200000</td>\n",
       "      <td>29.364000</td>\n",
       "    </tr>\n",
       "    <tr>\n",
       "      <th>max</th>\n",
       "      <td>99301.000000</td>\n",
       "      <td>22638.480000</td>\n",
       "      <td>14.000000</td>\n",
       "      <td>0.800000</td>\n",
       "      <td>8399.976000</td>\n",
       "    </tr>\n",
       "  </tbody>\n",
       "</table>\n",
       "</div>"
      ],
      "text/plain": [
       "        Postal Code         Sales     Quantity     Discount       Profit\n",
       "count   9983.000000   9994.000000  9994.000000  9994.000000  9994.000000\n",
       "mean   55245.233297    229.858001     3.789574     0.156203    28.656896\n",
       "std    32038.715955    623.245101     2.225110     0.206452   234.260108\n",
       "min     1040.000000      0.444000     1.000000     0.000000 -6599.978000\n",
       "25%    23223.000000     17.280000     2.000000     0.000000     1.728750\n",
       "50%    57103.000000     54.490000     3.000000     0.200000     8.666500\n",
       "75%    90008.000000    209.940000     5.000000     0.200000    29.364000\n",
       "max    99301.000000  22638.480000    14.000000     0.800000  8399.976000"
      ]
     },
     "execution_count": 12,
     "metadata": {},
     "output_type": "execute_result"
    }
   ],
   "source": [
    "df.describe()"
   ]
  },
  {
   "cell_type": "code",
   "execution_count": 13,
   "id": "1db2a0f6",
   "metadata": {},
   "outputs": [
    {
     "data": {
      "text/plain": [
       "2"
      ]
     },
     "execution_count": 13,
     "metadata": {},
     "output_type": "execute_result"
    }
   ],
   "source": [
    "duplicates = df.duplicated(keep = False)\n",
    "duplicates.sum()"
   ]
  },
  {
   "cell_type": "code",
   "execution_count": 14,
   "id": "068cdb11",
   "metadata": {},
   "outputs": [
    {
     "data": {
      "text/html": [
       "<div>\n",
       "<style scoped>\n",
       "    .dataframe tbody tr th:only-of-type {\n",
       "        vertical-align: middle;\n",
       "    }\n",
       "\n",
       "    .dataframe tbody tr th {\n",
       "        vertical-align: top;\n",
       "    }\n",
       "\n",
       "    .dataframe thead th {\n",
       "        text-align: right;\n",
       "    }\n",
       "</style>\n",
       "<table border=\"1\" class=\"dataframe\">\n",
       "  <thead>\n",
       "    <tr style=\"text-align: right;\">\n",
       "      <th></th>\n",
       "      <th>Order ID</th>\n",
       "      <th>Order Date</th>\n",
       "      <th>Ship Date</th>\n",
       "      <th>Ship Mode</th>\n",
       "      <th>Customer ID</th>\n",
       "      <th>Customer Name</th>\n",
       "      <th>Segment</th>\n",
       "      <th>City</th>\n",
       "      <th>State</th>\n",
       "      <th>Postal Code</th>\n",
       "      <th>Region</th>\n",
       "      <th>Product ID</th>\n",
       "      <th>Category</th>\n",
       "      <th>Sub-Category</th>\n",
       "      <th>Product Name</th>\n",
       "      <th>Sales</th>\n",
       "      <th>Quantity</th>\n",
       "      <th>Discount</th>\n",
       "      <th>Profit</th>\n",
       "    </tr>\n",
       "    <tr>\n",
       "      <th>Row ID</th>\n",
       "      <th></th>\n",
       "      <th></th>\n",
       "      <th></th>\n",
       "      <th></th>\n",
       "      <th></th>\n",
       "      <th></th>\n",
       "      <th></th>\n",
       "      <th></th>\n",
       "      <th></th>\n",
       "      <th></th>\n",
       "      <th></th>\n",
       "      <th></th>\n",
       "      <th></th>\n",
       "      <th></th>\n",
       "      <th></th>\n",
       "      <th></th>\n",
       "      <th></th>\n",
       "      <th></th>\n",
       "      <th></th>\n",
       "    </tr>\n",
       "  </thead>\n",
       "  <tbody>\n",
       "    <tr>\n",
       "      <th>3406</th>\n",
       "      <td>US-2015-150119</td>\n",
       "      <td>4/23/15</td>\n",
       "      <td>4/27/15</td>\n",
       "      <td>Standard Class</td>\n",
       "      <td>LB-16795</td>\n",
       "      <td>Laurel Beltran</td>\n",
       "      <td>Home Office</td>\n",
       "      <td>Columbus</td>\n",
       "      <td>Ohio</td>\n",
       "      <td>43229.0</td>\n",
       "      <td>East</td>\n",
       "      <td>FUR-CH-10002965</td>\n",
       "      <td>Furniture</td>\n",
       "      <td>Chairs</td>\n",
       "      <td>Global Leather Highback Executive Chair with P...</td>\n",
       "      <td>281.372</td>\n",
       "      <td>2</td>\n",
       "      <td>0.3</td>\n",
       "      <td>-12.0588</td>\n",
       "    </tr>\n",
       "    <tr>\n",
       "      <th>3407</th>\n",
       "      <td>US-2015-150119</td>\n",
       "      <td>4/23/15</td>\n",
       "      <td>4/27/15</td>\n",
       "      <td>Standard Class</td>\n",
       "      <td>LB-16795</td>\n",
       "      <td>Laurel Beltran</td>\n",
       "      <td>Home Office</td>\n",
       "      <td>Columbus</td>\n",
       "      <td>Ohio</td>\n",
       "      <td>43229.0</td>\n",
       "      <td>East</td>\n",
       "      <td>FUR-CH-10002965</td>\n",
       "      <td>Furniture</td>\n",
       "      <td>Chairs</td>\n",
       "      <td>Global Leather Highback Executive Chair with P...</td>\n",
       "      <td>281.372</td>\n",
       "      <td>2</td>\n",
       "      <td>0.3</td>\n",
       "      <td>-12.0588</td>\n",
       "    </tr>\n",
       "  </tbody>\n",
       "</table>\n",
       "</div>"
      ],
      "text/plain": [
       "              Order ID Order Date Ship Date       Ship Mode Customer ID  \\\n",
       "Row ID                                                                    \n",
       "3406    US-2015-150119    4/23/15   4/27/15  Standard Class    LB-16795   \n",
       "3407    US-2015-150119    4/23/15   4/27/15  Standard Class    LB-16795   \n",
       "\n",
       "         Customer Name      Segment      City State  Postal Code Region  \\\n",
       "Row ID                                                                    \n",
       "3406    Laurel Beltran  Home Office  Columbus  Ohio      43229.0   East   \n",
       "3407    Laurel Beltran  Home Office  Columbus  Ohio      43229.0   East   \n",
       "\n",
       "             Product ID   Category Sub-Category  \\\n",
       "Row ID                                            \n",
       "3406    FUR-CH-10002965  Furniture       Chairs   \n",
       "3407    FUR-CH-10002965  Furniture       Chairs   \n",
       "\n",
       "                                             Product Name    Sales  Quantity  \\\n",
       "Row ID                                                                         \n",
       "3406    Global Leather Highback Executive Chair with P...  281.372         2   \n",
       "3407    Global Leather Highback Executive Chair with P...  281.372         2   \n",
       "\n",
       "        Discount   Profit  \n",
       "Row ID                     \n",
       "3406         0.3 -12.0588  \n",
       "3407         0.3 -12.0588  "
      ]
     },
     "execution_count": 14,
     "metadata": {},
     "output_type": "execute_result"
    }
   ],
   "source": [
    "duplicated_sales = df[duplicates].sort_values('Row ID')\n",
    "duplicated_sales"
   ]
  },
  {
   "cell_type": "code",
   "execution_count": 15,
   "id": "63ee86a9",
   "metadata": {},
   "outputs": [
    {
     "data": {
      "text/plain": [
       "0"
      ]
     },
     "execution_count": 15,
     "metadata": {},
     "output_type": "execute_result"
    }
   ],
   "source": [
    "df.drop_duplicates(keep = 'first',ignore_index = True,inplace=True)\n",
    "df.duplicated(keep = False).unique() #code to confirm that the found duplicates have been dropped\n",
    "df.duplicated().sum() "
   ]
  },
  {
   "cell_type": "code",
   "execution_count": 16,
   "id": "36989ce2",
   "metadata": {},
   "outputs": [
    {
     "data": {
      "text/plain": [
       "(9993, 19)"
      ]
     },
     "execution_count": 16,
     "metadata": {},
     "output_type": "execute_result"
    }
   ],
   "source": [
    "df.shape"
   ]
  },
  {
   "cell_type": "code",
   "execution_count": 18,
   "id": "c6f717ab",
   "metadata": {},
   "outputs": [
    {
     "data": {
      "text/plain": [
       "count               9993\n",
       "unique              5009\n",
       "top       CA-2018-100111\n",
       "freq                  14\n",
       "Name: Order ID, dtype: object"
      ]
     },
     "execution_count": 18,
     "metadata": {},
     "output_type": "execute_result"
    }
   ],
   "source": [
    "df['Order ID'].describe() #summary statistics of the Order ID Column"
   ]
  },
  {
   "cell_type": "code",
   "execution_count": 20,
   "id": "c45a66ea",
   "metadata": {},
   "outputs": [
    {
     "data": {
      "text/plain": [
       "dtype('O')"
      ]
     },
     "execution_count": 20,
     "metadata": {},
     "output_type": "execute_result"
    }
   ],
   "source": [
    "df['Order ID'].dtype  "
   ]
  },
  {
   "cell_type": "code",
   "execution_count": 21,
   "id": "aae05f3f",
   "metadata": {},
   "outputs": [
    {
     "data": {
      "text/plain": [
       "dtype('O')"
      ]
     },
     "execution_count": 21,
     "metadata": {},
     "output_type": "execute_result"
    }
   ],
   "source": [
    "df['Order Date'].dtype "
   ]
  },
  {
   "cell_type": "code",
   "execution_count": 24,
   "id": "1338bc3f",
   "metadata": {},
   "outputs": [
    {
     "data": {
      "text/plain": [
       "dtype('<M8[ns]')"
      ]
     },
     "execution_count": 24,
     "metadata": {},
     "output_type": "execute_result"
    }
   ],
   "source": [
    "df['Order Date'] = pd.to_datetime(df['Order Date'])   # Converting into the date to the correct datatype\n",
    "df['Order Date'].dtype"
   ]
  },
  {
   "cell_type": "code",
   "execution_count": 25,
   "id": "d98814c4",
   "metadata": {},
   "outputs": [
    {
     "name": "stdout",
     "output_type": "stream",
     "text": [
      "0      2017-11-08\n",
      "1      2017-11-08\n",
      "2      2017-06-12\n",
      "3      2016-10-11\n",
      "4      2016-10-11\n",
      "          ...    \n",
      "9988   2015-01-21\n",
      "9989   2018-02-26\n",
      "9990   2018-02-26\n",
      "9991   2018-02-26\n",
      "9992   2018-05-04\n",
      "Name: Order Date, Length: 9993, dtype: datetime64[ns]\n"
     ]
    }
   ],
   "source": [
    "print(df['Order Date'])"
   ]
  },
  {
   "cell_type": "code",
   "execution_count": 26,
   "id": "2be747e2",
   "metadata": {},
   "outputs": [
    {
     "data": {
      "text/plain": [
       "dtype('<M8[ns]')"
      ]
     },
     "execution_count": 26,
     "metadata": {},
     "output_type": "execute_result"
    }
   ],
   "source": [
    "df['Ship Date'] = pd.to_datetime(df['Ship Date'])    #checking the datatype of the ShipDate Column\n",
    "df['Ship Date'].dtype"
   ]
  },
  {
   "cell_type": "code",
   "execution_count": 28,
   "id": "b966045e",
   "metadata": {},
   "outputs": [
    {
     "data": {
      "text/plain": [
       "array(['Second Class', 'Standard Class', 'First Class', 'Same Day'],\n",
       "      dtype=object)"
      ]
     },
     "execution_count": 28,
     "metadata": {},
     "output_type": "execute_result"
    }
   ],
   "source": [
    "df['Ship Mode'].unique()"
   ]
  },
  {
   "cell_type": "code",
   "execution_count": 30,
   "id": "e678f8fe",
   "metadata": {},
   "outputs": [
    {
     "data": {
      "text/plain": [
       "CategoricalDtype(categories=['First Class', 'Same Day', 'Second Class', 'Standard Class'], ordered=False)"
      ]
     },
     "execution_count": 30,
     "metadata": {},
     "output_type": "execute_result"
    }
   ],
   "source": [
    "df['Ship Mode'] = df['Ship Mode'].astype('category')    # Changing to datatype to category\n",
    "df['Ship Mode'].dtype"
   ]
  },
  {
   "cell_type": "code",
   "execution_count": 31,
   "id": "0afc3385",
   "metadata": {},
   "outputs": [
    {
     "data": {
      "text/plain": [
       "count               9993\n",
       "unique                 4\n",
       "top       Standard Class\n",
       "freq                5967\n",
       "Name: Ship Mode, dtype: object"
      ]
     },
     "execution_count": 31,
     "metadata": {},
     "output_type": "execute_result"
    }
   ],
   "source": [
    "df['Ship Mode'].describe() "
   ]
  },
  {
   "cell_type": "code",
   "execution_count": 33,
   "id": "c993ab93",
   "metadata": {},
   "outputs": [
    {
     "data": {
      "text/plain": [
       "793"
      ]
     },
     "execution_count": 33,
     "metadata": {},
     "output_type": "execute_result"
    }
   ],
   "source": [
    "\n",
    "df['Customer ID'].nunique()"
   ]
  },
  {
   "cell_type": "code",
   "execution_count": 35,
   "id": "52463bef",
   "metadata": {},
   "outputs": [
    {
     "data": {
      "text/plain": [
       "count         9993\n",
       "unique         793\n",
       "top       WB-21850\n",
       "freq            37\n",
       "Name: Customer ID, dtype: object"
      ]
     },
     "execution_count": 35,
     "metadata": {},
     "output_type": "execute_result"
    }
   ],
   "source": [
    "df['Customer ID'].describe() "
   ]
  },
  {
   "cell_type": "code",
   "execution_count": 36,
   "id": "8d0cfbae",
   "metadata": {},
   "outputs": [
    {
     "data": {
      "text/plain": [
       "count              9993\n",
       "unique              793\n",
       "top       William Brown\n",
       "freq                 37\n",
       "Name: Customer Name, dtype: object"
      ]
     },
     "execution_count": 36,
     "metadata": {},
     "output_type": "execute_result"
    }
   ],
   "source": [
    "df['Customer Name'].describe() "
   ]
  },
  {
   "cell_type": "code",
   "execution_count": 37,
   "id": "e8808427",
   "metadata": {},
   "outputs": [
    {
     "data": {
      "text/plain": [
       "count         9993\n",
       "unique           3\n",
       "top       Consumer\n",
       "freq          5191\n",
       "Name: Segment, dtype: object"
      ]
     },
     "execution_count": 37,
     "metadata": {},
     "output_type": "execute_result"
    }
   ],
   "source": [
    "df['Segment'].describe()"
   ]
  },
  {
   "cell_type": "code",
   "execution_count": 38,
   "id": "96195e00",
   "metadata": {},
   "outputs": [
    {
     "data": {
      "text/plain": [
       "CategoricalDtype(categories=['Consumer', 'Corporate', 'Home Office'], ordered=False)"
      ]
     },
     "execution_count": 38,
     "metadata": {},
     "output_type": "execute_result"
    }
   ],
   "source": [
    "df['Segment'] = df['Segment'].astype('category')  #changing the datatype of the segment column from object to category dtype\n",
    "df['Segment'].dtype"
   ]
  },
  {
   "cell_type": "code",
   "execution_count": 39,
   "id": "599a48f2",
   "metadata": {},
   "outputs": [
    {
     "data": {
      "text/plain": [
       "count              9993\n",
       "unique              531\n",
       "top       New York City\n",
       "freq                915\n",
       "Name: City, dtype: object"
      ]
     },
     "execution_count": 39,
     "metadata": {},
     "output_type": "execute_result"
    }
   ],
   "source": [
    "df['City'].describe() "
   ]
  },
  {
   "cell_type": "code",
   "execution_count": 40,
   "id": "58f087f3",
   "metadata": {},
   "outputs": [
    {
     "data": {
      "text/plain": [
       "count           9993\n",
       "unique            49\n",
       "top       California\n",
       "freq            2001\n",
       "Name: State, dtype: object"
      ]
     },
     "execution_count": 40,
     "metadata": {},
     "output_type": "execute_result"
    }
   ],
   "source": [
    "df['State'].describe() "
   ]
  },
  {
   "cell_type": "code",
   "execution_count": 42,
   "id": "ee11639d",
   "metadata": {},
   "outputs": [
    {
     "data": {
      "text/plain": [
       "count        9993\n",
       "unique        631\n",
       "top       10035.0\n",
       "freq          263\n",
       "Name: Postal Code, dtype: object"
      ]
     },
     "execution_count": 42,
     "metadata": {},
     "output_type": "execute_result"
    }
   ],
   "source": [
    "df['Postal Code'] = df['Postal Code'].astype('str')   # Changing PostalCode from int to str\n",
    "df['Postal Code'].describe()   "
   ]
  },
  {
   "cell_type": "code",
   "execution_count": 43,
   "id": "1903259d",
   "metadata": {},
   "outputs": [
    {
     "data": {
      "text/plain": [
       "count     9993\n",
       "unique       4\n",
       "top       West\n",
       "freq      3203\n",
       "Name: Region, dtype: object"
      ]
     },
     "execution_count": 43,
     "metadata": {},
     "output_type": "execute_result"
    }
   ],
   "source": [
    "df['Region'].describe() "
   ]
  },
  {
   "cell_type": "code",
   "execution_count": 45,
   "id": "c8d2cf88",
   "metadata": {},
   "outputs": [
    {
     "data": {
      "text/plain": [
       "count                9993\n",
       "unique               1850\n",
       "top       Staple envelope\n",
       "freq                   48\n",
       "Name: Product Name, dtype: object"
      ]
     },
     "execution_count": 45,
     "metadata": {},
     "output_type": "execute_result"
    }
   ],
   "source": [
    "\n",
    "df['Product Name'].describe()  "
   ]
  },
  {
   "cell_type": "code",
   "execution_count": 46,
   "id": "93fa16ac",
   "metadata": {},
   "outputs": [
    {
     "data": {
      "text/plain": [
       "count                9993\n",
       "unique                  3\n",
       "top       Office Supplies\n",
       "freq                 6026\n",
       "Name: Category, dtype: object"
      ]
     },
     "execution_count": 46,
     "metadata": {},
     "output_type": "execute_result"
    }
   ],
   "source": [
    "df['Category'].describe()  #checking summary statistics of the Category column"
   ]
  },
  {
   "cell_type": "code",
   "execution_count": 47,
   "id": "abe80528",
   "metadata": {},
   "outputs": [
    {
     "data": {
      "text/plain": [
       "0             Furniture\n",
       "1             Furniture\n",
       "2       Office Supplies\n",
       "3             Furniture\n",
       "4       Office Supplies\n",
       "             ...       \n",
       "9988          Furniture\n",
       "9989          Furniture\n",
       "9990         Technology\n",
       "9991    Office Supplies\n",
       "9992    Office Supplies\n",
       "Name: Category, Length: 9993, dtype: category\n",
       "Categories (3, object): ['Furniture', 'Office Supplies', 'Technology']"
      ]
     },
     "execution_count": 47,
     "metadata": {},
     "output_type": "execute_result"
    }
   ],
   "source": [
    "df['Category'] = df['Category'].astype('category')  #change datatype of Category column to category datatype\n",
    "df['Category']"
   ]
  },
  {
   "cell_type": "code",
   "execution_count": 50,
   "id": "64679766",
   "metadata": {},
   "outputs": [
    {
     "data": {
      "text/plain": [
       "count        9993\n",
       "unique         17\n",
       "top       Binders\n",
       "freq         1523\n",
       "Name: Sub-Category, dtype: object"
      ]
     },
     "execution_count": 50,
     "metadata": {},
     "output_type": "execute_result"
    }
   ],
   "source": [
    "df['Sub-Category'].describe()  "
   ]
  },
  {
   "cell_type": "code",
   "execution_count": 51,
   "id": "444f3f15",
   "metadata": {},
   "outputs": [
    {
     "data": {
      "text/plain": [
       "0         Bookcases\n",
       "1            Chairs\n",
       "2            Labels\n",
       "3            Tables\n",
       "4           Storage\n",
       "           ...     \n",
       "9988    Furnishings\n",
       "9989    Furnishings\n",
       "9990         Phones\n",
       "9991          Paper\n",
       "9992     Appliances\n",
       "Name: Sub-Category, Length: 9993, dtype: category\n",
       "Categories (17, object): ['Accessories', 'Appliances', 'Art', 'Binders', ..., 'Phones', 'Storage', 'Supplies', 'Tables']"
      ]
     },
     "execution_count": 51,
     "metadata": {},
     "output_type": "execute_result"
    }
   ],
   "source": [
    "df['Sub-Category'] = df['Sub-Category'].astype('category')   #change dataype of SubCategory Column\n",
    "df['Sub-Category']"
   ]
  },
  {
   "cell_type": "code",
   "execution_count": 53,
   "id": "fd52178c",
   "metadata": {},
   "outputs": [
    {
     "data": {
      "text/plain": [
       "count    9993.000000\n",
       "mean        0.156188\n",
       "std         0.206457\n",
       "min         0.000000\n",
       "25%         0.000000\n",
       "50%         0.200000\n",
       "75%         0.200000\n",
       "max         0.800000\n",
       "Name: Discount, dtype: float64"
      ]
     },
     "execution_count": 53,
     "metadata": {},
     "output_type": "execute_result"
    }
   ],
   "source": [
    "df['Discount'].describe()  #summary statistics of DiscountedSales Column"
   ]
  },
  {
   "cell_type": "code",
   "execution_count": 54,
   "id": "127774db",
   "metadata": {},
   "outputs": [
    {
     "data": {
      "text/plain": [
       "count    9993.000000\n",
       "mean        3.789753\n",
       "std         2.225149\n",
       "min         1.000000\n",
       "25%         2.000000\n",
       "50%         3.000000\n",
       "75%         5.000000\n",
       "max        14.000000\n",
       "Name: Quantity, dtype: float64"
      ]
     },
     "execution_count": 54,
     "metadata": {},
     "output_type": "execute_result"
    }
   ],
   "source": [
    "df['Quantity'].describe()  "
   ]
  },
  {
   "cell_type": "code",
   "execution_count": 56,
   "id": "b3830340",
   "metadata": {},
   "outputs": [
    {
     "data": {
      "text/plain": [
       "count    9993.000000\n",
       "mean        0.156188\n",
       "std         0.206457\n",
       "min         0.000000\n",
       "25%         0.000000\n",
       "50%         0.200000\n",
       "75%         0.200000\n",
       "max         0.800000\n",
       "Name: Discount, dtype: float64"
      ]
     },
     "execution_count": 56,
     "metadata": {},
     "output_type": "execute_result"
    }
   ],
   "source": [
    "df['Discount'].describe()       #summary statistics of DiscountAmount Column"
   ]
  },
  {
   "cell_type": "code",
   "execution_count": 57,
   "id": "1b108ee4",
   "metadata": {},
   "outputs": [
    {
     "data": {
      "text/plain": [
       "count    9993.000000\n",
       "mean       28.660971\n",
       "std       234.271476\n",
       "min     -6599.978000\n",
       "25%         1.731000\n",
       "50%         8.671000\n",
       "75%        29.364000\n",
       "max      8399.976000\n",
       "Name: Profit, dtype: float64"
      ]
     },
     "execution_count": 57,
     "metadata": {},
     "output_type": "execute_result"
    }
   ],
   "source": [
    "df['Profit'].describe()  "
   ]
  },
  {
   "cell_type": "code",
   "execution_count": 58,
   "id": "a9788027",
   "metadata": {},
   "outputs": [
    {
     "data": {
      "text/html": [
       "<div>\n",
       "<style scoped>\n",
       "    .dataframe tbody tr th:only-of-type {\n",
       "        vertical-align: middle;\n",
       "    }\n",
       "\n",
       "    .dataframe tbody tr th {\n",
       "        vertical-align: top;\n",
       "    }\n",
       "\n",
       "    .dataframe thead th {\n",
       "        text-align: right;\n",
       "    }\n",
       "</style>\n",
       "<table border=\"1\" class=\"dataframe\">\n",
       "  <thead>\n",
       "    <tr style=\"text-align: right;\">\n",
       "      <th></th>\n",
       "      <th>Order Date</th>\n",
       "      <th>Ship Date</th>\n",
       "      <th>Sales</th>\n",
       "      <th>Quantity</th>\n",
       "      <th>Discount</th>\n",
       "      <th>Profit</th>\n",
       "    </tr>\n",
       "  </thead>\n",
       "  <tbody>\n",
       "    <tr>\n",
       "      <th>count</th>\n",
       "      <td>9993</td>\n",
       "      <td>9993</td>\n",
       "      <td>9993.000000</td>\n",
       "      <td>9993.000000</td>\n",
       "      <td>9993.000000</td>\n",
       "      <td>9993.000000</td>\n",
       "    </tr>\n",
       "    <tr>\n",
       "      <th>mean</th>\n",
       "      <td>2017-04-30 07:03:30.747523072</td>\n",
       "      <td>2017-05-04 06:03:42.635845120</td>\n",
       "      <td>229.852846</td>\n",
       "      <td>3.789753</td>\n",
       "      <td>0.156188</td>\n",
       "      <td>28.660971</td>\n",
       "    </tr>\n",
       "    <tr>\n",
       "      <th>min</th>\n",
       "      <td>2015-01-03 00:00:00</td>\n",
       "      <td>2015-01-07 00:00:00</td>\n",
       "      <td>0.444000</td>\n",
       "      <td>1.000000</td>\n",
       "      <td>0.000000</td>\n",
       "      <td>-6599.978000</td>\n",
       "    </tr>\n",
       "    <tr>\n",
       "      <th>25%</th>\n",
       "      <td>2016-05-23 00:00:00</td>\n",
       "      <td>2016-05-27 00:00:00</td>\n",
       "      <td>17.280000</td>\n",
       "      <td>2.000000</td>\n",
       "      <td>0.000000</td>\n",
       "      <td>1.731000</td>\n",
       "    </tr>\n",
       "    <tr>\n",
       "      <th>50%</th>\n",
       "      <td>2017-06-26 00:00:00</td>\n",
       "      <td>2017-06-29 00:00:00</td>\n",
       "      <td>54.480000</td>\n",
       "      <td>3.000000</td>\n",
       "      <td>0.200000</td>\n",
       "      <td>8.671000</td>\n",
       "    </tr>\n",
       "    <tr>\n",
       "      <th>75%</th>\n",
       "      <td>2018-05-14 00:00:00</td>\n",
       "      <td>2018-05-18 00:00:00</td>\n",
       "      <td>209.940000</td>\n",
       "      <td>5.000000</td>\n",
       "      <td>0.200000</td>\n",
       "      <td>29.364000</td>\n",
       "    </tr>\n",
       "    <tr>\n",
       "      <th>max</th>\n",
       "      <td>2018-12-30 00:00:00</td>\n",
       "      <td>2019-01-05 00:00:00</td>\n",
       "      <td>22638.480000</td>\n",
       "      <td>14.000000</td>\n",
       "      <td>0.800000</td>\n",
       "      <td>8399.976000</td>\n",
       "    </tr>\n",
       "    <tr>\n",
       "      <th>std</th>\n",
       "      <td>NaN</td>\n",
       "      <td>NaN</td>\n",
       "      <td>623.276074</td>\n",
       "      <td>2.225149</td>\n",
       "      <td>0.206457</td>\n",
       "      <td>234.271476</td>\n",
       "    </tr>\n",
       "  </tbody>\n",
       "</table>\n",
       "</div>"
      ],
      "text/plain": [
       "                          Order Date                      Ship Date  \\\n",
       "count                           9993                           9993   \n",
       "mean   2017-04-30 07:03:30.747523072  2017-05-04 06:03:42.635845120   \n",
       "min              2015-01-03 00:00:00            2015-01-07 00:00:00   \n",
       "25%              2016-05-23 00:00:00            2016-05-27 00:00:00   \n",
       "50%              2017-06-26 00:00:00            2017-06-29 00:00:00   \n",
       "75%              2018-05-14 00:00:00            2018-05-18 00:00:00   \n",
       "max              2018-12-30 00:00:00            2019-01-05 00:00:00   \n",
       "std                              NaN                            NaN   \n",
       "\n",
       "              Sales     Quantity     Discount       Profit  \n",
       "count   9993.000000  9993.000000  9993.000000  9993.000000  \n",
       "mean     229.852846     3.789753     0.156188    28.660971  \n",
       "min        0.444000     1.000000     0.000000 -6599.978000  \n",
       "25%       17.280000     2.000000     0.000000     1.731000  \n",
       "50%       54.480000     3.000000     0.200000     8.671000  \n",
       "75%      209.940000     5.000000     0.200000    29.364000  \n",
       "max    22638.480000    14.000000     0.800000  8399.976000  \n",
       "std      623.276074     2.225149     0.206457   234.271476  "
      ]
     },
     "execution_count": 58,
     "metadata": {},
     "output_type": "execute_result"
    }
   ],
   "source": [
    "df.describe()"
   ]
  },
  {
   "cell_type": "code",
   "execution_count": 61,
   "id": "51586a17",
   "metadata": {},
   "outputs": [
    {
     "data": {
      "text/html": [
       "<div>\n",
       "<style scoped>\n",
       "    .dataframe tbody tr th:only-of-type {\n",
       "        vertical-align: middle;\n",
       "    }\n",
       "\n",
       "    .dataframe tbody tr th {\n",
       "        vertical-align: top;\n",
       "    }\n",
       "\n",
       "    .dataframe thead th {\n",
       "        text-align: right;\n",
       "    }\n",
       "</style>\n",
       "<table border=\"1\" class=\"dataframe\">\n",
       "  <thead>\n",
       "    <tr style=\"text-align: right;\">\n",
       "      <th></th>\n",
       "      <th>Order ID</th>\n",
       "      <th>Customer ID</th>\n",
       "      <th>Customer Name</th>\n",
       "      <th>City</th>\n",
       "      <th>State</th>\n",
       "      <th>Postal Code</th>\n",
       "      <th>Region</th>\n",
       "      <th>Product ID</th>\n",
       "      <th>Product Name</th>\n",
       "    </tr>\n",
       "  </thead>\n",
       "  <tbody>\n",
       "    <tr>\n",
       "      <th>count</th>\n",
       "      <td>9993</td>\n",
       "      <td>9993</td>\n",
       "      <td>9993</td>\n",
       "      <td>9993</td>\n",
       "      <td>9993</td>\n",
       "      <td>9993</td>\n",
       "      <td>9993</td>\n",
       "      <td>9993</td>\n",
       "      <td>9993</td>\n",
       "    </tr>\n",
       "    <tr>\n",
       "      <th>unique</th>\n",
       "      <td>5009</td>\n",
       "      <td>793</td>\n",
       "      <td>793</td>\n",
       "      <td>531</td>\n",
       "      <td>49</td>\n",
       "      <td>631</td>\n",
       "      <td>4</td>\n",
       "      <td>1862</td>\n",
       "      <td>1850</td>\n",
       "    </tr>\n",
       "    <tr>\n",
       "      <th>top</th>\n",
       "      <td>CA-2018-100111</td>\n",
       "      <td>WB-21850</td>\n",
       "      <td>William Brown</td>\n",
       "      <td>New York City</td>\n",
       "      <td>California</td>\n",
       "      <td>10035.0</td>\n",
       "      <td>West</td>\n",
       "      <td>OFF-PA-10001970</td>\n",
       "      <td>Staple envelope</td>\n",
       "    </tr>\n",
       "    <tr>\n",
       "      <th>freq</th>\n",
       "      <td>14</td>\n",
       "      <td>37</td>\n",
       "      <td>37</td>\n",
       "      <td>915</td>\n",
       "      <td>2001</td>\n",
       "      <td>263</td>\n",
       "      <td>3203</td>\n",
       "      <td>19</td>\n",
       "      <td>48</td>\n",
       "    </tr>\n",
       "  </tbody>\n",
       "</table>\n",
       "</div>"
      ],
      "text/plain": [
       "              Order ID Customer ID  Customer Name           City       State  \\\n",
       "count             9993        9993           9993           9993        9993   \n",
       "unique            5009         793            793            531          49   \n",
       "top     CA-2018-100111    WB-21850  William Brown  New York City  California   \n",
       "freq                14          37             37            915        2001   \n",
       "\n",
       "       Postal Code Region       Product ID     Product Name  \n",
       "count         9993   9993             9993             9993  \n",
       "unique         631      4             1862             1850  \n",
       "top        10035.0   West  OFF-PA-10001970  Staple envelope  \n",
       "freq           263   3203               19               48  "
      ]
     },
     "execution_count": 61,
     "metadata": {},
     "output_type": "execute_result"
    }
   ],
   "source": [
    "df.describe(include = np.object_)"
   ]
  },
  {
   "cell_type": "code",
   "execution_count": 64,
   "id": "0b871fda",
   "metadata": {},
   "outputs": [
    {
     "data": {
      "text/plain": [
       "Sub-Category\n",
       "Binders        1523\n",
       "Paper          1370\n",
       "Furnishings     957\n",
       "Phones          889\n",
       "Storage         846\n",
       "               ... \n",
       "Bookcases       228\n",
       "Fasteners       217\n",
       "Supplies        190\n",
       "Machines        115\n",
       "Copiers          68\n",
       "Name: count, Length: 17, dtype: int64"
      ]
     },
     "execution_count": 64,
     "metadata": {},
     "output_type": "execute_result"
    }
   ],
   "source": [
    "#PRODUCT ANALYSIS\n",
    "df['Sub-Category'].value_counts()"
   ]
  },
  {
   "cell_type": "code",
   "execution_count": 66,
   "id": "a58f7e0e",
   "metadata": {},
   "outputs": [
    {
     "data": {
      "image/png": "[encoded data removed]",
      "text/plain": [
       "<Figure size 640x480 with 1 Axes>"
      ]
     },
     "metadata": {},
     "output_type": "display_data"
    }
   ],
   "source": [
    "sns.countplot(x='Sub-Category', data = df)\n",
    "sns.set_theme(style=\"whitegrid\")\n",
    "plt.title('Count of Category')\n",
    "plt.xticks(rotation = 60)\n",
    "plt.show()"
   ]
  },
  {
   "cell_type": "code",
   "execution_count": 79,
   "id": "7bd772c8",
   "metadata": {},
   "outputs": [],
   "source": [
    "fur_entr=df[df['Category']=='Furniture']"
   ]
  },
  {
   "cell_type": "code",
   "execution_count": 80,
   "id": "ee9fa276",
   "metadata": {},
   "outputs": [],
   "source": [
    "fur_group=fur_entr.groupby(['Category', 'Product Name'])['Quantity'].sum().reset_index().sort_values('Quantity', \n",
    "                                                                                                    ascending = False)\n",
    "fur_group=fur_group[['Product Name','Quantity']].set_index('Product Name')\n"
   ]
  },
  {
   "cell_type": "code",
   "execution_count": 81,
   "id": "2c711e97",
   "metadata": {},
   "outputs": [
    {
     "data": {
      "text/html": [
       "<div>\n",
       "<style scoped>\n",
       "    .dataframe tbody tr th:only-of-type {\n",
       "        vertical-align: middle;\n",
       "    }\n",
       "\n",
       "    .dataframe tbody tr th {\n",
       "        vertical-align: top;\n",
       "    }\n",
       "\n",
       "    .dataframe thead th {\n",
       "        text-align: right;\n",
       "    }\n",
       "</style>\n",
       "<table border=\"1\" class=\"dataframe\">\n",
       "  <thead>\n",
       "    <tr style=\"text-align: right;\">\n",
       "      <th></th>\n",
       "      <th>Quantity</th>\n",
       "    </tr>\n",
       "    <tr>\n",
       "      <th>Product Name</th>\n",
       "      <th></th>\n",
       "    </tr>\n",
       "  </thead>\n",
       "  <tbody>\n",
       "    <tr>\n",
       "      <th>KI Adjustable-Height Table</th>\n",
       "      <td>74</td>\n",
       "    </tr>\n",
       "    <tr>\n",
       "      <th>Situations Contoured Folding Chairs, 4/Set</th>\n",
       "      <td>64</td>\n",
       "    </tr>\n",
       "    <tr>\n",
       "      <th>Staple-based wall hangings</th>\n",
       "      <td>62</td>\n",
       "    </tr>\n",
       "    <tr>\n",
       "      <th>Chromcraft Round Conference Tables</th>\n",
       "      <td>61</td>\n",
       "    </tr>\n",
       "    <tr>\n",
       "      <th>Eldon Wave Desk Accessories</th>\n",
       "      <td>61</td>\n",
       "    </tr>\n",
       "    <tr>\n",
       "      <th>...</th>\n",
       "      <td>...</td>\n",
       "    </tr>\n",
       "    <tr>\n",
       "      <th>Iceberg Nesting Folding Chair, 19w x 6d x 43h</th>\n",
       "      <td>0</td>\n",
       "    </tr>\n",
       "    <tr>\n",
       "      <th>Iceberg OfficeWorks 42\" Round Tables</th>\n",
       "      <td>0</td>\n",
       "    </tr>\n",
       "    <tr>\n",
       "      <th>KI Adjustable-Height Table</th>\n",
       "      <td>0</td>\n",
       "    </tr>\n",
       "    <tr>\n",
       "      <th>KI Conference Tables</th>\n",
       "      <td>0</td>\n",
       "    </tr>\n",
       "    <tr>\n",
       "      <th>Westinghouse Mesh Shade Clip-On Gooseneck Lamp, Black</th>\n",
       "      <td>0</td>\n",
       "    </tr>\n",
       "  </tbody>\n",
       "</table>\n",
       "<p>1140 rows × 1 columns</p>\n",
       "</div>"
      ],
      "text/plain": [
       "                                                    Quantity\n",
       "Product Name                                                \n",
       "KI Adjustable-Height Table                                74\n",
       "Situations Contoured Folding Chairs, 4/Set                64\n",
       "Staple-based wall hangings                                62\n",
       "Chromcraft Round Conference Tables                        61\n",
       "Eldon Wave Desk Accessories                               61\n",
       "...                                                      ...\n",
       "Iceberg Nesting Folding Chair, 19w x 6d x 43h              0\n",
       "Iceberg OfficeWorks 42\" Round Tables                       0\n",
       "KI Adjustable-Height Table                                 0\n",
       "KI Conference Tables                                       0\n",
       "Westinghouse Mesh Shade Clip-On Gooseneck Lamp,...         0\n",
       "\n",
       "[1140 rows x 1 columns]"
      ]
     },
     "execution_count": 81,
     "metadata": {},
     "output_type": "execute_result"
    }
   ],
   "source": [
    "fur_group"
   ]
  },
  {
   "cell_type": "code",
   "execution_count": 84,
   "id": "7bbf8f64",
   "metadata": {},
   "outputs": [
    {
     "data": {
      "text/plain": [
       "<Axes: ylabel='Quantity'>"
      ]
     },
     "execution_count": 84,
     "metadata": {},
     "output_type": "execute_result"
    },
    {
     "data": {
      "image/png": "[encoded data removed]",
      "text/plain": [
       "<Figure size 400x800 with 1 Axes>"
      ]
     },
     "metadata": {},
     "output_type": "display_data"
    }
   ],
   "source": [
    "plt.figure(figsize=(4,8))\n",
    "fur_group.head()['Quantity'].plot.pie(autopct=\"%1.1f%%\")"
   ]
  },
  {
   "cell_type": "code",
   "execution_count": 85,
   "id": "0cee76fd",
   "metadata": {},
   "outputs": [
    {
     "data": {
      "image/png": "[encoded data removed]",
      "text/plain": [
       "<Figure size 1200x500 with 1 Axes>"
      ]
     },
     "metadata": {},
     "output_type": "display_data"
    }
   ],
   "source": [
    "plt.figure(figsize=(12,5))\n",
    "sns.countplot(x=\"Category\", hue=\"Region\", data=df)\n",
    "plt.show()"
   ]
  },
  {
   "cell_type": "code",
   "execution_count": 92,
   "id": "d9fe0c4a",
   "metadata": {},
   "outputs": [],
   "source": [
    "df['Order Month']=df['Order Date'].dt.month"
   ]
  },
  {
   "cell_type": "code",
   "execution_count": 94,
   "id": "8d9d0b52",
   "metadata": {},
   "outputs": [
    {
     "data": {
      "text/plain": [
       "0       11\n",
       "1       11\n",
       "2        6\n",
       "3       10\n",
       "4       10\n",
       "        ..\n",
       "9988     1\n",
       "9989     2\n",
       "9990     2\n",
       "9991     2\n",
       "9992     5\n",
       "Name: Order Month, Length: 9993, dtype: int32"
      ]
     },
     "execution_count": 94,
     "metadata": {},
     "output_type": "execute_result"
    }
   ],
   "source": [
    "df['Order Month']"
   ]
  },
  {
   "cell_type": "code",
   "execution_count": null,
   "id": "6b284600",
   "metadata": {},
   "outputs": [],
   "source": []
  },
  {
   "cell_type": "code",
   "execution_count": 101,
   "id": "208f37f1",
   "metadata": {},
   "outputs": [
    {
     "data": {
      "text/html": [
       "<div>\n",
       "<style scoped>\n",
       "    .dataframe tbody tr th:only-of-type {\n",
       "        vertical-align: middle;\n",
       "    }\n",
       "\n",
       "    .dataframe tbody tr th {\n",
       "        vertical-align: top;\n",
       "    }\n",
       "\n",
       "    .dataframe thead th {\n",
       "        text-align: right;\n",
       "    }\n",
       "</style>\n",
       "<table border=\"1\" class=\"dataframe\">\n",
       "  <thead>\n",
       "    <tr style=\"text-align: right;\">\n",
       "      <th></th>\n",
       "      <th>Discount</th>\n",
       "      <th>Quantity</th>\n",
       "      <th>Profit</th>\n",
       "    </tr>\n",
       "  </thead>\n",
       "  <tbody>\n",
       "    <tr>\n",
       "      <th>0</th>\n",
       "      <td>0.00</td>\n",
       "      <td>2</td>\n",
       "      <td>41.9136</td>\n",
       "    </tr>\n",
       "    <tr>\n",
       "      <th>1</th>\n",
       "      <td>0.00</td>\n",
       "      <td>3</td>\n",
       "      <td>219.5820</td>\n",
       "    </tr>\n",
       "    <tr>\n",
       "      <th>2</th>\n",
       "      <td>0.00</td>\n",
       "      <td>2</td>\n",
       "      <td>6.8714</td>\n",
       "    </tr>\n",
       "    <tr>\n",
       "      <th>3</th>\n",
       "      <td>0.45</td>\n",
       "      <td>5</td>\n",
       "      <td>-383.0310</td>\n",
       "    </tr>\n",
       "    <tr>\n",
       "      <th>4</th>\n",
       "      <td>0.20</td>\n",
       "      <td>2</td>\n",
       "      <td>2.5164</td>\n",
       "    </tr>\n",
       "    <tr>\n",
       "      <th>...</th>\n",
       "      <td>...</td>\n",
       "      <td>...</td>\n",
       "      <td>...</td>\n",
       "    </tr>\n",
       "    <tr>\n",
       "      <th>9988</th>\n",
       "      <td>0.20</td>\n",
       "      <td>3</td>\n",
       "      <td>4.1028</td>\n",
       "    </tr>\n",
       "    <tr>\n",
       "      <th>9989</th>\n",
       "      <td>0.00</td>\n",
       "      <td>2</td>\n",
       "      <td>15.6332</td>\n",
       "    </tr>\n",
       "    <tr>\n",
       "      <th>9990</th>\n",
       "      <td>0.20</td>\n",
       "      <td>2</td>\n",
       "      <td>19.3932</td>\n",
       "    </tr>\n",
       "    <tr>\n",
       "      <th>9991</th>\n",
       "      <td>0.00</td>\n",
       "      <td>4</td>\n",
       "      <td>13.3200</td>\n",
       "    </tr>\n",
       "    <tr>\n",
       "      <th>9992</th>\n",
       "      <td>0.00</td>\n",
       "      <td>2</td>\n",
       "      <td>72.9480</td>\n",
       "    </tr>\n",
       "  </tbody>\n",
       "</table>\n",
       "<p>9993 rows × 3 columns</p>\n",
       "</div>"
      ],
      "text/plain": [
       "      Discount  Quantity    Profit\n",
       "0         0.00         2   41.9136\n",
       "1         0.00         3  219.5820\n",
       "2         0.00         2    6.8714\n",
       "3         0.45         5 -383.0310\n",
       "4         0.20         2    2.5164\n",
       "...        ...       ...       ...\n",
       "9988      0.20         3    4.1028\n",
       "9989      0.00         2   15.6332\n",
       "9990      0.20         2   19.3932\n",
       "9991      0.00         4   13.3200\n",
       "9992      0.00         2   72.9480\n",
       "\n",
       "[9993 rows x 3 columns]"
      ]
     },
     "execution_count": 101,
     "metadata": {},
     "output_type": "execute_result"
    }
   ],
   "source": [
    "df[['Discount', 'Quantity', 'Profit']]"
   ]
  },
  {
   "cell_type": "code",
   "execution_count": 103,
   "id": "a05a539a",
   "metadata": {},
   "outputs": [
    {
     "data": {
      "text/html": [
       "<div>\n",
       "<style scoped>\n",
       "    .dataframe tbody tr th:only-of-type {\n",
       "        vertical-align: middle;\n",
       "    }\n",
       "\n",
       "    .dataframe tbody tr th {\n",
       "        vertical-align: top;\n",
       "    }\n",
       "\n",
       "    .dataframe thead th {\n",
       "        text-align: right;\n",
       "    }\n",
       "</style>\n",
       "<table border=\"1\" class=\"dataframe\">\n",
       "  <thead>\n",
       "    <tr style=\"text-align: right;\">\n",
       "      <th></th>\n",
       "      <th>Discount</th>\n",
       "      <th>Quantity</th>\n",
       "      <th>Profit</th>\n",
       "    </tr>\n",
       "    <tr>\n",
       "      <th>Order Month</th>\n",
       "      <th></th>\n",
       "      <th></th>\n",
       "      <th></th>\n",
       "    </tr>\n",
       "  </thead>\n",
       "  <tbody>\n",
       "    <tr>\n",
       "      <th>5</th>\n",
       "      <td>0.165429</td>\n",
       "      <td>3.797279</td>\n",
       "      <td>30.491575</td>\n",
       "    </tr>\n",
       "    <tr>\n",
       "      <th>4</th>\n",
       "      <td>0.162924</td>\n",
       "      <td>3.665667</td>\n",
       "      <td>17.390547</td>\n",
       "    </tr>\n",
       "    <tr>\n",
       "      <th>6</th>\n",
       "      <td>0.162817</td>\n",
       "      <td>3.737796</td>\n",
       "      <td>29.687302</td>\n",
       "    </tr>\n",
       "    <tr>\n",
       "      <th>10</th>\n",
       "      <td>0.162601</td>\n",
       "      <td>3.789988</td>\n",
       "      <td>38.808353</td>\n",
       "    </tr>\n",
       "    <tr>\n",
       "      <th>11</th>\n",
       "      <td>0.158307</td>\n",
       "      <td>3.925901</td>\n",
       "      <td>24.111779</td>\n",
       "    </tr>\n",
       "    <tr>\n",
       "      <th>...</th>\n",
       "      <td>...</td>\n",
       "      <td>...</td>\n",
       "      <td>...</td>\n",
       "    </tr>\n",
       "    <tr>\n",
       "      <th>8</th>\n",
       "      <td>0.154235</td>\n",
       "      <td>3.943343</td>\n",
       "      <td>30.845522</td>\n",
       "    </tr>\n",
       "    <tr>\n",
       "      <th>12</th>\n",
       "      <td>0.150433</td>\n",
       "      <td>3.848722</td>\n",
       "      <td>30.801983</td>\n",
       "    </tr>\n",
       "    <tr>\n",
       "      <th>1</th>\n",
       "      <td>0.149921</td>\n",
       "      <td>3.871391</td>\n",
       "      <td>23.974924</td>\n",
       "    </tr>\n",
       "    <tr>\n",
       "      <th>9</th>\n",
       "      <td>0.148995</td>\n",
       "      <td>3.660159</td>\n",
       "      <td>26.650380</td>\n",
       "    </tr>\n",
       "    <tr>\n",
       "      <th>2</th>\n",
       "      <td>0.146233</td>\n",
       "      <td>3.556667</td>\n",
       "      <td>34.315369</td>\n",
       "    </tr>\n",
       "  </tbody>\n",
       "</table>\n",
       "<p>12 rows × 3 columns</p>\n",
       "</div>"
      ],
      "text/plain": [
       "             Discount  Quantity     Profit\n",
       "Order Month                               \n",
       "5            0.165429  3.797279  30.491575\n",
       "4            0.162924  3.665667  17.390547\n",
       "6            0.162817  3.737796  29.687302\n",
       "10           0.162601  3.789988  38.808353\n",
       "11           0.158307  3.925901  24.111779\n",
       "...               ...       ...        ...\n",
       "8            0.154235  3.943343  30.845522\n",
       "12           0.150433  3.848722  30.801983\n",
       "1            0.149921  3.871391  23.974924\n",
       "9            0.148995  3.660159  26.650380\n",
       "2            0.146233  3.556667  34.315369\n",
       "\n",
       "[12 rows x 3 columns]"
      ]
     },
     "execution_count": 103,
     "metadata": {},
     "output_type": "execute_result"
    }
   ],
   "source": [
    "# Which month does the company records more sales?\n",
    "month_sales_df = pd.DataFrame(df.groupby(['Order Month'])[['Discount', 'Quantity', 'Profit']]\n",
    "                              .mean().sort_values('Discount',ascending = False))\n",
    "month_sales_df = month_sales_df.reset_index()\n",
    "month_sales_df = month_sales_df.set_index('Order Month')\n",
    "month_sales_df"
   ]
  },
  {
   "cell_type": "code",
   "execution_count": 90,
   "id": "42cdca93",
   "metadata": {},
   "outputs": [
    {
     "data": {
      "text/plain": [
       "Index(['Order ID', 'Order Date', 'Ship Date', 'Ship Mode', 'Customer ID',\n",
       "       'Customer Name', 'Segment', 'City', 'State', 'Postal Code', 'Region',\n",
       "       'Product ID', 'Category', 'Sub-Category', 'Product Name', 'Sales',\n",
       "       'Quantity', 'Discount', 'Profit'],\n",
       "      dtype='object')"
      ]
     },
     "execution_count": 90,
     "metadata": {},
     "output_type": "execute_result"
    }
   ],
   "source": [
    "df.columns"
   ]
  },
  {
   "cell_type": "code",
   "execution_count": 104,
   "id": "3c96f414",
   "metadata": {},
   "outputs": [
    {
     "data": {
      "image/png": "[encoded data removed]",
      "text/plain": [
       "<Figure size 2000x300 with 1 Axes>"
      ]
     },
     "metadata": {},
     "output_type": "display_data"
    }
   ],
   "source": [
    "month_sales_df.plot(kind = 'bar', figsize = (20,3))\n",
    "plt.xticks(rotation = 45)\n",
    "plt.yscale('log')"
   ]
  },
  {
   "cell_type": "code",
   "execution_count": null,
   "id": "a4016914",
   "metadata": {},
   "outputs": [],
   "source": []
  }
 ],
 "metadata": {
  "kernelspec": {
   "display_name": "Python 3 (ipykernel)",
   "language": "python",
   "name": "python3"
  },
  "language_info": {
   "codemirror_mode": {
    "name": "ipython",
    "version": 3
   },
   "file_extension": ".py",
   "mimetype": "text/x-python",
   "name": "python",
   "nbconvert_exporter": "python",
   "pygments_lexer": "ipython3",
   "version": "3.11.5"
  }
 },
 "nbformat": 4,
 "nbformat_minor": 5
}
